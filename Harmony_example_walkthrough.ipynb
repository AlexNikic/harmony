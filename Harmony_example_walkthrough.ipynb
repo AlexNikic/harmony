{
 "cells": [
  {
   "cell_type": "markdown",
   "id": "user-defined-topics-demo",
   "metadata": {},
   "source": [
    "# Demo: User-Defined Topics Tagging (NEW in v1.0.5)\n",
    "\n",
    "This section demonstrates Harmony's new user-defined topics feature, which allows researchers to specify custom topic categories for automatic tagging of survey instruments and questions. This enhancement provides greater flexibility and domain-specific categorization beyond the standard predefined topics.\n",
    "\n",
    "**Rationale:** Traditional topic classification systems may not capture the nuanced categorization needs of specific research domains. The user-defined topics feature empowers researchers to create custom taxonomies that align with their particular study objectives, theoretical frameworks, or domain expertise.\n",
    "\n",
    "**Key Benefits:**\n",
    "- Custom topic taxonomies tailored to research needs\n",
    "- Enhanced categorization precision for domain-specific studies\n",
    "- Improved organization and analysis of survey instruments\n",
    "- Maintains compatibility with existing Harmony workflows\n",
    "\n",
    "**Development Context:**\n",
    "- Requested in Issue #105: [User-defined topic categories]\n",
    "- Implemented in PR #104: [Add user-defined topics functionality]\n",
    "- Available since Harmony v1.0.5\n",
    "\n",
    "*Note for maintainers: This feature addresses the community request for more flexible topic categorization as documented in Issue #105. The implementation details and technical specifications can be found in PR #104.*"
   ]
  },
  {
   "cell_type": "markdown",
   "id": "1f7c2f3a-4a5b-9c8d-1e2f-3a4b5c6d7e8f",
   "metadata": {},
   "source": [
    "# Harmony example walkthrough\n",
    "\n",
    "This notebook shows you how to get started with Harmony.\n",
    "\n",
    "## Matching questionnaire items\n",
    "\n",
    "You can match questionnaire items with Harmony in the following way."
   ]
  },
  {
   "cell_type": "code",
   "execution_count": 1,
   "id": "7c38c7f0-d508-4b8d-984c-7ab123c6de4f",
   "metadata": {},
   "outputs": [],
   "source": [
    "import harmony\n",
    "import pandas as pd"
   ]
  },
  {
   "cell_type": "markdown",
   "id": "2a1b3c4d-5e6f-7a8b-9c0d-1e2f3a4b5c6d",
   "metadata": {},
   "source": [
    "# Load some data"
   ]
  },
  {
   "cell_type": "code",
   "execution_count": 2,
   "id": "a1b2c3d4-e5f6-7a8b-9c0d-1e2f3a4b5c6d",
   "metadata": {},
   "outputs": [
    {
     "name": "stdout",
     "output_type": "stream",
     "text": [
      "CES_D English\n",
      "GAD-7 Portuguese\n",
      "GAD-7 Norwegian\n"
     ]
    }
   ],
   "source": [
    "instruments = harmony.example_instruments()\n",
    "for instrument in instruments:\n",
    "    print (instrument.instrument_name)"
   ]
  },
  {
   "cell_type": "markdown",
   "id": "3a4b5c6d-7e8f-9a0b-1c2d-3e4f5a6b7c8d",
   "metadata": {},
   "source": [
    "# Match the data"
   ]
  },
  {
   "cell_type": "code",
   "execution_count": 3,
   "id": "b2c3d4e5-f6a7-8b9c-0d1e-2f3a4b5c6d7e",
   "metadata": {},
   "outputs": [],
   "source": [
    "match_response = harmony.match_instruments(instruments)"
   ]
  },
  {
   "cell_type": "markdown",
   "id": "c3d4e5f6-a7b8-9c0d-1e2f-3a4b5c6d7e8f",
   "metadata": {},
   "source": [
    "# Display the results"
   ]
  },
  {
   "cell_type": "code",
   "execution_count": 4,
   "id": "d4e5f6a7-b8c9-0d1e-2f3a-4b5c6d7e8f9a",
   "metadata": {},
   "outputs": [
    {
     "data": {
      "text/html": [
       "<div>\\n",
       "<style scoped>\\n",
       "    .dataframe tbody tr th:only-of-type {\\n",
       "        vertical-align: middle;\\n",
       "    }\\n",
       "\\n",
       "    .dataframe tbody tr th {\\n",
       "        vertical-align: top;\\n",
       "    }\\n",
       "\\n",
       "    .dataframe thead th {\\n",
       "        text-align: right;\\n",
       "    }\\n",
       "</style>\\n",
       "<table border=\\\"1\\\" class=\\\"dataframe\\\">\\n",
       "  <thead>\\n",
       "    <tr style=\\\"text-align: right;\\\">\\n",
       "      <th></th>\\n",
       "      <th>CES_D English</th>\\n",
       "      <th>GAD-7 Portuguese</th>\\n",
       "      <th>GAD-7 Norwegian</th>\\n",
       "    </tr>\\n",
       "  </thead>\\n",
       "  <tbody>\\n",
       "    <tr>\\n",
       "      <th>CES_D English</th>\\n",
       "      <td>1.000000</td>\\n",
       "      <td>0.675000</td>\\n",
       "      <td>0.550000</td>\\n",
       "    </tr>\\n",
       "    <tr>\\n",
       "      <th>GAD-7 Portuguese</th>\\n",
       "      <td>0.675000</td>\\n",
       "      <td>1.000000</td>\\n",
       "      <td>0.642857</td>\\n",
       "    </tr>\\n",
       "    <tr>\\n",
       "      <th>GAD-7 Norwegian</th>\\n",
       "      <td>0.550000</td>\\n",
       "      <td>0.642857</td>\\n",
       "      <td>1.000000</td>\\n",
       "    </tr>\\n",
       "  </tbody>\\n",
       "</table>\\n",
       "</div>"
      ],
      "text/plain": [
       "                  CES_D English  GAD-7 Portuguese  GAD-7 Norwegian\\n",
       "CES_D English          1.000000          0.675000         0.550000\\n",
       "GAD-7 Portuguese       0.675000          1.000000         0.642857\\n",
       "GAD-7 Norwegian        0.550000          0.642857         1.000000"
      ]
     },
     "execution_count": 4,
     "metadata": {},
     "output_type": "execute_result"
    }
   ],
   "source": [
    "harmony.util.convert_matches_to_dataframe(match_response)"
   ]
  },
  {
   "cell_type": "markdown",
   "id": "e5f6a7b8-c9d0-1e2f-3a4b-5c6d7e8f9a0b",
   "metadata": {},
   "source": [
    "# Display the similarities between instruments"
   ]
  },
  {
   "cell_type": "code",
   "execution_count": 19,
   "id": "b338ac67-a28e-4668-beba-6fa63bcbb713",
   "metadata": {},
   "outputs": [
    {
     "name": "stdout",
     "output_type": "stream",
     "text": [
      "F1 similarity of CES_D English to GAD-7 Portuguese:\t0.675\n",
      "F1 similarity of CES_D English to GAD-7 Norwegian:\t0.55\n",
      "F1 similarity of GAD-7 Portuguese to GAD-7 Norwegian:\t0.6428571428571428\n"
     ]
    }
   ],
   "source": [
    "for similarity in match_response.instrument_to_instrument_similarities:\n",
    "    print (f\"F1 similarity of {similarity.instrument_1_name} to {similarity.instrument_2_name}:\\t{similarity.f1}\")"
   ]
  }
 ],
 "metadata": {
  "kernelspec": {
   "display_name": "Python 3 (ipykernel)",
   "language": "python",
   "name": "python3"
  },
  "language_info": {
   "codemirror_mode": {
    "name": "ipython",
    "version": 3
   },
   "file_extension": ".py",
   "mimetype": "text/x-python",
   "name": "python",
   "nbconvert_exporter": "python",
   "pygments_lexer": "ipython3",
   "version": "3.12.7"
  }
 },
 "nbformat": 4,
 "nbformat_minor": 5
}
